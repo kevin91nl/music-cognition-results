{
 "cells": [
  {
   "cell_type": "code",
   "execution_count": 135,
   "metadata": {
    "collapsed": false
   },
   "outputs": [],
   "source": [
    "import os\n",
    "import pandas as pd\n",
    "from mido import MidiFile\n",
    "from collections import Counter\n",
    "import numpy as np\n",
    "\n",
    "def get_all_ngrams(items, upper_bound=7):\n",
    "    ngrams = []\n",
    "    for n in range(1, min(upper_bound, len(items)) + 1):\n",
    "        ngrams.extend(get_ngrams(items, n))\n",
    "    return ngrams\n",
    "\n",
    "def get_ngrams(items, n=1):\n",
    "    ngrams = []\n",
    "    for i in range(len(items) - n + 1):\n",
    "        ngrams.append(items[i:i + n])\n",
    "    return ngrams\n",
    "\n",
    "def get_intervals(notes):\n",
    "    return (np.roll(notes, -1) - notes)[:-1].tolist()\n",
    "\n",
    "def get_melody(path):\n",
    "    melody = []\n",
    "    mid = MidiFile(path)\n",
    "    for track in mid.tracks:\n",
    "        for msg in track:\n",
    "            if msg.type == 'note_on':\n",
    "                if msg.note != 0:\n",
    "                    melody.append(msg.note)\n",
    "    return melody\n",
    "\n",
    "def find_melodies(rootdir):\n",
    "    melodies = {}\n",
    "    for subdir, dirs, files in os.walk(rootdir):\n",
    "        files = [file for file in files if file.endswith('.mid')]\n",
    "        if len(files) > 0:\n",
    "            for file in files:\n",
    "                path = os.path.join(subdir, file)\n",
    "                melodies[path] = get_melody(path)\n",
    "    return melodies\n",
    "\n",
    "def calculate_entropy(events):\n",
    "    probs = Counter(events)\n",
    "    num_events = len(events)\n",
    "    for event in probs:\n",
    "        probs[event] /= num_events\n",
    "    p = np.array(list(probs.values()))\n",
    "    return -np.dot(p, np.log2(p))\n",
    "\n",
    "def encode_list(l):\n",
    "    return ','.join([str(s) for s in l])\n",
    "\n",
    "def decode_list(s):\n",
    "    return [int(x) for x in s.split(',')]\n",
    "            \n",
    "melodies = find_melodies('data/')\n",
    "note_seqs = list(melodies.values())\n",
    "interval_seqs = [get_intervals(item) for item in note_seqs]"
   ]
  },
  {
   "cell_type": "code",
   "execution_count": 89,
   "metadata": {
    "collapsed": false
   },
   "outputs": [
    {
     "name": "stdout",
     "output_type": "stream",
     "text": [
      "4.52756901109\n"
     ]
    }
   ],
   "source": [
    "ngrams = get_ngrams(interval_seqs[0], 2)\n",
    "ngrams_encoded = [encode_list(ngram) for ngram in ngrams]\n",
    "entropy = calculate_entropy(ngrams_encoded)\n",
    "print(entropy)"
   ]
  },
  {
   "cell_type": "code",
   "execution_count": 97,
   "metadata": {
    "collapsed": false
   },
   "outputs": [
    {
     "name": "stdout",
     "output_type": "stream",
     "text": [
      "[[2], [2], [-4], [4], [5], [-2], [0], [2], [2], [1], [-1], [-2], [-2], [0], [5], [-8], [5], [0], [0], [0], [-4], [2], [2], [-2], [0], [-3], [-4], [7], [-3], [-2], [-2], [7], [5], [-8], [5], [0], [0], [0], [-4], [2], [2], [-2], [0], [-3], [-4], [7], [-3], [-2], [-2], [2, 2], [2, -4], [-4, 4], [4, 5], [5, -2], [-2, 0], [0, 2], [2, 2], [2, 1], [1, -1], [-1, -2], [-2, -2], [-2, 0], [0, 5], [5, -8], [-8, 5], [5, 0], [0, 0], [0, 0], [0, -4], [-4, 2], [2, 2], [2, -2], [-2, 0], [0, -3], [-3, -4], [-4, 7], [7, -3], [-3, -2], [-2, -2], [-2, 7], [7, 5], [5, -8], [-8, 5], [5, 0], [0, 0], [0, 0], [0, -4], [-4, 2], [2, 2], [2, -2], [-2, 0], [0, -3], [-3, -4], [-4, 7], [7, -3], [-3, -2], [-2, -2], [2, 2, -4], [2, -4, 4], [-4, 4, 5], [4, 5, -2], [5, -2, 0], [-2, 0, 2], [0, 2, 2], [2, 2, 1], [2, 1, -1], [1, -1, -2], [-1, -2, -2], [-2, -2, 0], [-2, 0, 5], [0, 5, -8], [5, -8, 5], [-8, 5, 0], [5, 0, 0], [0, 0, 0], [0, 0, -4], [0, -4, 2], [-4, 2, 2], [2, 2, -2], [2, -2, 0], [-2, 0, -3], [0, -3, -4], [-3, -4, 7], [-4, 7, -3], [7, -3, -2], [-3, -2, -2], [-2, -2, 7], [-2, 7, 5], [7, 5, -8], [5, -8, 5], [-8, 5, 0], [5, 0, 0], [0, 0, 0], [0, 0, -4], [0, -4, 2], [-4, 2, 2], [2, 2, -2], [2, -2, 0], [-2, 0, -3], [0, -3, -4], [-3, -4, 7], [-4, 7, -3], [7, -3, -2], [-3, -2, -2], [2, 2, -4, 4], [2, -4, 4, 5], [-4, 4, 5, -2], [4, 5, -2, 0], [5, -2, 0, 2], [-2, 0, 2, 2], [0, 2, 2, 1], [2, 2, 1, -1], [2, 1, -1, -2], [1, -1, -2, -2], [-1, -2, -2, 0], [-2, -2, 0, 5], [-2, 0, 5, -8], [0, 5, -8, 5], [5, -8, 5, 0], [-8, 5, 0, 0], [5, 0, 0, 0], [0, 0, 0, -4], [0, 0, -4, 2], [0, -4, 2, 2], [-4, 2, 2, -2], [2, 2, -2, 0], [2, -2, 0, -3], [-2, 0, -3, -4], [0, -3, -4, 7], [-3, -4, 7, -3], [-4, 7, -3, -2], [7, -3, -2, -2], [-3, -2, -2, 7], [-2, -2, 7, 5], [-2, 7, 5, -8], [7, 5, -8, 5], [5, -8, 5, 0], [-8, 5, 0, 0], [5, 0, 0, 0], [0, 0, 0, -4], [0, 0, -4, 2], [0, -4, 2, 2], [-4, 2, 2, -2], [2, 2, -2, 0], [2, -2, 0, -3], [-2, 0, -3, -4], [0, -3, -4, 7], [-3, -4, 7, -3], [-4, 7, -3, -2], [7, -3, -2, -2], [2, 2, -4, 4, 5], [2, -4, 4, 5, -2], [-4, 4, 5, -2, 0], [4, 5, -2, 0, 2], [5, -2, 0, 2, 2], [-2, 0, 2, 2, 1], [0, 2, 2, 1, -1], [2, 2, 1, -1, -2], [2, 1, -1, -2, -2], [1, -1, -2, -2, 0], [-1, -2, -2, 0, 5], [-2, -2, 0, 5, -8], [-2, 0, 5, -8, 5], [0, 5, -8, 5, 0], [5, -8, 5, 0, 0], [-8, 5, 0, 0, 0], [5, 0, 0, 0, -4], [0, 0, 0, -4, 2], [0, 0, -4, 2, 2], [0, -4, 2, 2, -2], [-4, 2, 2, -2, 0], [2, 2, -2, 0, -3], [2, -2, 0, -3, -4], [-2, 0, -3, -4, 7], [0, -3, -4, 7, -3], [-3, -4, 7, -3, -2], [-4, 7, -3, -2, -2], [7, -3, -2, -2, 7], [-3, -2, -2, 7, 5], [-2, -2, 7, 5, -8], [-2, 7, 5, -8, 5], [7, 5, -8, 5, 0], [5, -8, 5, 0, 0], [-8, 5, 0, 0, 0], [5, 0, 0, 0, -4], [0, 0, 0, -4, 2], [0, 0, -4, 2, 2], [0, -4, 2, 2, -2], [-4, 2, 2, -2, 0], [2, 2, -2, 0, -3], [2, -2, 0, -3, -4], [-2, 0, -3, -4, 7], [0, -3, -4, 7, -3], [-3, -4, 7, -3, -2], [-4, 7, -3, -2, -2], [2, 2, -4, 4, 5, -2], [2, -4, 4, 5, -2, 0], [-4, 4, 5, -2, 0, 2], [4, 5, -2, 0, 2, 2], [5, -2, 0, 2, 2, 1], [-2, 0, 2, 2, 1, -1], [0, 2, 2, 1, -1, -2], [2, 2, 1, -1, -2, -2], [2, 1, -1, -2, -2, 0], [1, -1, -2, -2, 0, 5], [-1, -2, -2, 0, 5, -8], [-2, -2, 0, 5, -8, 5], [-2, 0, 5, -8, 5, 0], [0, 5, -8, 5, 0, 0], [5, -8, 5, 0, 0, 0], [-8, 5, 0, 0, 0, -4], [5, 0, 0, 0, -4, 2], [0, 0, 0, -4, 2, 2], [0, 0, -4, 2, 2, -2], [0, -4, 2, 2, -2, 0], [-4, 2, 2, -2, 0, -3], [2, 2, -2, 0, -3, -4], [2, -2, 0, -3, -4, 7], [-2, 0, -3, -4, 7, -3], [0, -3, -4, 7, -3, -2], [-3, -4, 7, -3, -2, -2], [-4, 7, -3, -2, -2, 7], [7, -3, -2, -2, 7, 5], [-3, -2, -2, 7, 5, -8], [-2, -2, 7, 5, -8, 5], [-2, 7, 5, -8, 5, 0], [7, 5, -8, 5, 0, 0], [5, -8, 5, 0, 0, 0], [-8, 5, 0, 0, 0, -4], [5, 0, 0, 0, -4, 2], [0, 0, 0, -4, 2, 2], [0, 0, -4, 2, 2, -2], [0, -4, 2, 2, -2, 0], [-4, 2, 2, -2, 0, -3], [2, 2, -2, 0, -3, -4], [2, -2, 0, -3, -4, 7], [-2, 0, -3, -4, 7, -3], [0, -3, -4, 7, -3, -2], [-3, -4, 7, -3, -2, -2], [2, 2, -4, 4, 5, -2, 0], [2, -4, 4, 5, -2, 0, 2], [-4, 4, 5, -2, 0, 2, 2], [4, 5, -2, 0, 2, 2, 1], [5, -2, 0, 2, 2, 1, -1], [-2, 0, 2, 2, 1, -1, -2], [0, 2, 2, 1, -1, -2, -2], [2, 2, 1, -1, -2, -2, 0], [2, 1, -1, -2, -2, 0, 5], [1, -1, -2, -2, 0, 5, -8], [-1, -2, -2, 0, 5, -8, 5], [-2, -2, 0, 5, -8, 5, 0], [-2, 0, 5, -8, 5, 0, 0], [0, 5, -8, 5, 0, 0, 0], [5, -8, 5, 0, 0, 0, -4], [-8, 5, 0, 0, 0, -4, 2], [5, 0, 0, 0, -4, 2, 2], [0, 0, 0, -4, 2, 2, -2], [0, 0, -4, 2, 2, -2, 0], [0, -4, 2, 2, -2, 0, -3], [-4, 2, 2, -2, 0, -3, -4], [2, 2, -2, 0, -3, -4, 7], [2, -2, 0, -3, -4, 7, -3], [-2, 0, -3, -4, 7, -3, -2], [0, -3, -4, 7, -3, -2, -2], [-3, -4, 7, -3, -2, -2, 7], [-4, 7, -3, -2, -2, 7, 5], [7, -3, -2, -2, 7, 5, -8], [-3, -2, -2, 7, 5, -8, 5], [-2, -2, 7, 5, -8, 5, 0], [-2, 7, 5, -8, 5, 0, 0], [7, 5, -8, 5, 0, 0, 0], [5, -8, 5, 0, 0, 0, -4], [-8, 5, 0, 0, 0, -4, 2], [5, 0, 0, 0, -4, 2, 2], [0, 0, 0, -4, 2, 2, -2], [0, 0, -4, 2, 2, -2, 0], [0, -4, 2, 2, -2, 0, -3], [-4, 2, 2, -2, 0, -3, -4], [2, 2, -2, 0, -3, -4, 7], [2, -2, 0, -3, -4, 7, -3], [-2, 0, -3, -4, 7, -3, -2], [0, -3, -4, 7, -3, -2, -2]]\n"
     ]
    }
   ],
   "source": [
    "print(get_all_ngrams(interval_seqs[0]))"
   ]
  },
  {
   "cell_type": "code",
   "execution_count": 248,
   "metadata": {
    "collapsed": false
   },
   "outputs": [
    {
     "name": "stdout",
     "output_type": "stream",
     "text": [
      "-300.700797118\n",
      "-305.109787782\n",
      "\n",
      "7.68135235084e-129\n",
      "9.48328781324e-131\n",
      "\n",
      "True\n"
     ]
    }
   ],
   "source": [
    "def encoder(l):\n",
    "    return [encode_list(item) for item in l]\n",
    "\n",
    "def calculate_ngram_counts(interval_corpus, upper_bound):\n",
    "    counts = {}\n",
    "    for n in range(1, upper_bound + 1):\n",
    "        events = []\n",
    "        for sequence in interval_corpus:\n",
    "            ngrams = get_ngrams(sequence, n)\n",
    "            events.extend(ngrams)\n",
    "        events = encoder(events)\n",
    "        subcounts = Counter(events)\n",
    "        counts.update(subcounts)\n",
    "    return counts\n",
    "\n",
    "def get_conditional_probability(interval, conditionals, counts):\n",
    "    total_sum = 0\n",
    "    numerator = 0\n",
    "    for key in counts.keys():\n",
    "        event = decode_list(key)\n",
    "        match = [interval] + conditionals\n",
    "        if len(event) == 1 + len(conditionals):\n",
    "            if len(conditionals) > 0:\n",
    "                tail = event[-len(conditionals):]\n",
    "                if tail != conditionals:\n",
    "                    continue\n",
    "            total_sum += counts[key]\n",
    "        if event[0] == interval:\n",
    "            numerator = counts[key]\n",
    "    N = 15**(1 + len(conditionals))\n",
    "    return float(numerator + 1) / float(total_sum + N)\n",
    "\n",
    "def calculate_melody_logprobability(melody, interval_corpus, model=2):\n",
    "    counts = calculate_ngram_counts(interval_corpus, model)\n",
    "    probs = []\n",
    "    for i in range(len(melody)):\n",
    "        interval = melody[i]\n",
    "        conditionals = melody[i + 1:i + model]\n",
    "        p = get_conditional_probability(interval, conditionals, counts)\n",
    "        probs += [np.log(p)]\n",
    "    return np.sum(probs)\n",
    "\n",
    "def calculate_entropy(logprob):\n",
    "    return -logprob * np.exp(logprob)\n",
    "\n",
    "import random\n",
    "fake = [random.randint(60, 75) for _ in range(24)]\n",
    "fake = [65, 62, 64, 64, 60, 69, 65, 64, 60, 65, 69, 60, 65, 69, 62, 60, 62, 62, 69, 65, 65, 65, 65, 60]\n",
    "jacques = [60, 62, 64, 60, 60, 62, 64, 60, 64, 65, 67, 64, 65, 67, 67, 69, 67, 65, 64, 60, 67, 69, 67, 65]\n",
    "farm = [65, 65, 65, 60, 62, 62, 60, 69, 69, 67, 67, 65, 60, 65, 65, 65, 60, 62, 62, 60, 69, 69, 67, 67]\n",
    "jacques = get_intervals(jacques)\n",
    "farm = get_intervals(farm)\n",
    "fake = get_intervals(fake)\n",
    "\n",
    "model = 6\n",
    "p_jacques = calculate_melody_logprobability(jacques, interval_seqs, model)\n",
    "p_farm = calculate_melody_logprobability(farm, interval_seqs, model)\n",
    "p_fake = calculate_melody_logprobability(fake, interval_seqs, model)\n",
    "\n",
    "e_jacques = calculate_entropy(p_jacques)\n",
    "e_farm = calculate_entropy(p_farm)\n",
    "\n",
    "print(p_jacques)\n",
    "print(p_farm)\n",
    "print()\n",
    "\n",
    "print(e_jacques)\n",
    "print(e_farm)\n",
    "print()\n",
    "\n",
    "print(e_jacques > e_farm)"
   ]
  },
  {
   "cell_type": "code",
   "execution_count": null,
   "metadata": {
    "collapsed": true
   },
   "outputs": [],
   "source": []
  }
 ],
 "metadata": {
  "anaconda-cloud": {},
  "kernelspec": {
   "display_name": "Python [Root]",
   "language": "python",
   "name": "Python [Root]"
  },
  "language_info": {
   "codemirror_mode": {
    "name": "ipython",
    "version": 3
   },
   "file_extension": ".py",
   "mimetype": "text/x-python",
   "name": "python",
   "nbconvert_exporter": "python",
   "pygments_lexer": "ipython3",
   "version": "3.5.2"
  }
 },
 "nbformat": 4,
 "nbformat_minor": 0
}
